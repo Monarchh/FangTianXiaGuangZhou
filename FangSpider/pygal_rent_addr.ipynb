{
 "cells": [
  {
   "cell_type": "code",
   "execution_count": 3,
   "metadata": {},
   "outputs": [],
   "source": [
    "import json\n",
    "import pygal\n",
    "\n",
    "# 将文件定义为变量filename\n",
    "filename = 'rent_address.json'\n",
    "# 读取JSON格式的工作数据\n",
    "with open (filename, 'r', True, 'utf-8') as f:\n",
    "    addr_list = json.load(f)\n",
    "\n",
    "# 定义addr_dict来保存房子所在地区的位数\n",
    "addr_dict = {}\n",
    "\n",
    "# 遍历列表的每个元素，每个元素都是一个地区信息\n",
    "for addr in addr_list:\n",
    "    if addr['address'] in addr_dict:\n",
    "        addr_dict[addr['address']] += 1\n",
    "    else:\n",
    "        addr_dict[addr['address']] = 1\n",
    "\n",
    "# 创建pygal.Pie对象（饼图）\n",
    "pie = pygal.Pie()\n",
    "other_num = 0\n",
    "\n",
    "# 采用循环为饼图添加数据\n",
    "for k in addr_dict.keys():\n",
    "    # 如果该行业的招聘位数少于5个，则归类到“其它”中\n",
    "    if addr_dict[k] < 5:\n",
    "        other_num += addr_dict[k]\n",
    "    else:\n",
    "        pie.add(k, addr_dict[k])\n",
    "\n",
    "# 添加其它行业的招聘职位数\n",
    "pie.add('其它', other_num)\n",
    "pie.title = '广州出租房屋热点区域'\n",
    "# 设置将图例放到底部\n",
    "pie.legend_at_bottom = True\n",
    "#设置内圈半径长度\n",
    "pie.inner_radius = 0.4\n",
    "#创建半圆\n",
    "pie.half_pie = True\n",
    "# 指定将数据图输出到SVG文件中\n",
    "pie.render_to_file('rent_addr.svg')"
   ]
  },
  {
   "cell_type": "code",
   "execution_count": null,
   "metadata": {},
   "outputs": [],
   "source": []
  }
 ],
 "metadata": {
  "kernelspec": {
   "display_name": "Python 3",
   "language": "python",
   "name": "python3"
  },
  "language_info": {
   "codemirror_mode": {
    "name": "ipython",
    "version": 3
   },
   "file_extension": ".py",
   "mimetype": "text/x-python",
   "name": "python",
   "nbconvert_exporter": "python",
   "pygments_lexer": "ipython3",
   "version": "3.7.3"
  }
 },
 "nbformat": 4,
 "nbformat_minor": 2
}
